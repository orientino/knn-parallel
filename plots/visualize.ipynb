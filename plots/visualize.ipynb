{
 "cells": [
  {
   "cell_type": "code",
   "execution_count": null,
   "metadata": {},
   "outputs": [],
   "source": [
    "import pandas as pd\n",
    "import matplotlib.pyplot as plt\n",
    "\n",
    "plt.style.use('ggplot')\n",
    "%matplotlib inline"
   ]
  },
  {
   "cell_type": "code",
   "execution_count": null,
   "metadata": {},
   "outputs": [],
   "source": [
    "read = 734920\n",
    "seq = 311118000\n",
    "seq_10k = 3.11501e+06 \n",
    "write = 846320 \n",
    "\n",
    "def get_df(path, small=False):\n",
    "    df = pd.read_csv(path, index_col=0)\n",
    "    df[\"speedup\"] = seq / df.iloc[:, 0]\n",
    "    if (small):\n",
    "        df[\"speedup\"] = seq_10k / df.iloc[:, 0]\n",
    "\n",
    "    df[\"scalability\"] = df.iloc[0, 0] / df.iloc[:, 0]\n",
    "    df[\"efficiency\"] = df[\"speedup\"] / df.index\n",
    "    return df\n"
   ]
  },
  {
   "cell_type": "code",
   "execution_count": null,
   "metadata": {},
   "outputs": [],
   "source": [
    "par = get_df(\"time_par\")\n",
    "ff_pf = get_df(\"time_ff_pf\")\n",
    "ff_mw = get_df(\"time_ff_mw\")\n",
    "\n",
    "par_10k = get_df(\"time_par_10k\", True)\n",
    "ff_pf_10k = get_df(\"time_ff_pf_10k\", True)\n",
    "ff_mw_10k = get_df(\"time_ff_mw_10k\", True)"
   ]
  },
  {
   "cell_type": "code",
   "execution_count": null,
   "metadata": {},
   "outputs": [],
   "source": [
    "ff_mw[\"speedup\"].max()"
   ]
  },
  {
   "cell_type": "code",
   "execution_count": null,
   "metadata": {},
   "outputs": [],
   "source": [
    "# plotting\n",
    "fig = plt.figure(figsize=(20, 6)) \n",
    "fig_dims = (1, 2)\n",
    "fig.subplots_adjust(hspace=0.1, wspace=0.1)\n",
    "\n",
    "plt.subplot2grid(fig_dims, (0, 0))\n",
    "par[\"speedup\"].plot(style='-')\n",
    "ff_pf[\"speedup\"].plot(style='--')\n",
    "ff_mw[\"speedup\"].plot(style=':', color='green')\n",
    "plt.legend([\"Parallel\", \"FF-PF\", \"FF-MW\"])\n",
    "plt.xlabel(\"Parallelism\")\n",
    "plt.ylabel(\"Speedup\")\n",
    "\n",
    "plt.subplot2grid(fig_dims, (0, 1))\n",
    "par[\"scalability\"].plot(style='-')\n",
    "ff_pf[\"scalability\"].plot(style='--')\n",
    "ff_mw[\"scalability\"].plot(style=':', color='green')\n",
    "plt.legend([\"Parallel\", \"FF-PF\", \"FF-MW\"])\n",
    "plt.xlabel(\"Parallelism\")\n",
    "plt.ylabel(\"Scalability\")"
   ]
  },
  {
   "cell_type": "code",
   "execution_count": null,
   "metadata": {},
   "outputs": [],
   "source": [
    "# plotting\n",
    "fig = plt.figure(figsize=(20, 6)) \n",
    "fig_dims = (1, 2)\n",
    "fig.subplots_adjust(hspace=0.1, wspace=0.1)\n",
    "\n",
    "plt.subplot2grid(fig_dims, (0, 0))\n",
    "par[\"efficiency\"].plot(style='-')\n",
    "ff_pf[\"efficiency\"].plot(style='--')\n",
    "ff_mw[\"efficiency\"].plot(style=':', color='green')\n",
    "plt.legend([\"Parallel\", \"FF-PF\", \"FF-MW\"])\n",
    "plt.xlabel(\"Parallelism\")\n",
    "plt.ylabel(\"Efficiency\")\n",
    "\n",
    "plt.subplot2grid(fig_dims, (0, 1))\n",
    "par_10k[\"efficiency\"].plot(style='-')\n",
    "ff_pf_10k[\"efficiency\"].plot(style='--')\n",
    "ff_mw_10k[\"efficiency\"].plot(style=':', color='green')\n",
    "plt.legend([\"Parallel (small)\", \"FF-PF (small)\", \"FF-MW (small)\"])\n",
    "plt.xlabel(\"Parallelism\")\n",
    "plt.ylabel(\"Efficiency\")"
   ]
  }
 ],
 "metadata": {
  "language_info": {
   "name": "python"
  },
  "orig_nbformat": 4
 },
 "nbformat": 4,
 "nbformat_minor": 2
}
